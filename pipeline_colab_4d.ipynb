{
 "cells": [
  {
   "cell_type": "markdown",
   "id": "9504ba8b-53e8-4129-b054-8bce428a9692",
   "metadata": {
    "id": "9504ba8b-53e8-4129-b054-8bce428a9692",
    "pycharm": {
     "name": "#%% md\n"
    }
   },
   "source": [
    "Description: Detect edge & evaluate FOM of proposed method with various noise level\n",
    "\n",
    "Python version: 3.9"
   ]
  },
  {
   "cell_type": "code",
   "source": [
    "# Link Google colab notebook to your personal google drive account.\n",
    "\n",
    "from google.colab import drive\n",
    "drive.mount('/content/drive')"
   ],
   "metadata": {
    "colab": {
     "base_uri": "https://localhost:8080/"
    },
    "id": "fKKJSDF4iana",
    "executionInfo": {
     "status": "ok",
     "timestamp": 1674096053823,
     "user_tz": -540,
     "elapsed": 29670,
     "user": {
      "displayName": "A K",
      "userId": "15579580750927195470"
     }
    },
    "outputId": "505683b7-0a0f-435a-e17d-29c16061ad24",
    "pycharm": {
     "name": "#%%\n"
    }
   },
   "id": "fKKJSDF4iana",
   "execution_count": 1,
   "outputs": [
    {
     "output_type": "stream",
     "name": "stdout",
     "text": [
      "Mounted at /content/drive\n"
     ]
    }
   ]
  },
  {
   "cell_type": "code",
   "source": [
    "# Install packages\n",
    "!pip install ruptures\n",
    "!pip install skan\n",
    "!pip install aicsimageio"
   ],
   "metadata": {
    "colab": {
     "base_uri": "https://localhost:8080/"
    },
    "id": "6FsZaVNhsAP2",
    "executionInfo": {
     "status": "ok",
     "timestamp": 1674096119743,
     "user_tz": -540,
     "elapsed": 17909,
     "user": {
      "displayName": "A K",
      "userId": "15579580750927195470"
     }
    },
    "outputId": "aa97358f-648c-42d5-9121-6acec701c646",
    "pycharm": {
     "name": "#%%\n"
    }
   },
   "id": "6FsZaVNhsAP2",
   "execution_count": 2,
   "outputs": [
    {
     "output_type": "stream",
     "name": "stdout",
     "text": [
      "Looking in indexes: https://pypi.org/simple, https://us-python.pkg.dev/colab-wheels/public/simple/\n",
      "Collecting ruptures\n",
      "  Downloading ruptures-1.1.7-cp38-cp38-manylinux_2_17_x86_64.manylinux2014_x86_64.whl (1.1 MB)\n",
      "\u001B[2K     \u001B[90m━━━━━━━━━━━━━━━━━━━━━━━━━━━━━━━━━━━━━━━━\u001B[0m \u001B[32m1.1/1.1 MB\u001B[0m \u001B[31m48.4 MB/s\u001B[0m eta \u001B[36m0:00:00\u001B[0m\n",
      "\u001B[?25hRequirement already satisfied: numpy in /usr/local/lib/python3.8/dist-packages (from ruptures) (1.21.6)\n",
      "Requirement already satisfied: scipy in /usr/local/lib/python3.8/dist-packages (from ruptures) (1.7.3)\n",
      "Installing collected packages: ruptures\n",
      "Successfully installed ruptures-1.1.7\n",
      "Looking in indexes: https://pypi.org/simple, https://us-python.pkg.dev/colab-wheels/public/simple/\n",
      "Collecting skan\n",
      "  Downloading skan-0.10.0-py3-none-any.whl (1.5 MB)\n",
      "\u001B[2K     \u001B[90m━━━━━━━━━━━━━━━━━━━━━━━━━━━━━━━━━━━━━━━━\u001B[0m \u001B[32m1.5/1.5 MB\u001B[0m \u001B[31m61.7 MB/s\u001B[0m eta \u001B[36m0:00:00\u001B[0m\n",
      "\u001B[?25hRequirement already satisfied: networkx>=2.0 in /usr/local/lib/python3.8/dist-packages (from skan) (3.0)\n",
      "Requirement already satisfied: numpy>=1.16.5 in /usr/local/lib/python3.8/dist-packages (from skan) (1.21.6)\n",
      "Requirement already satisfied: scipy>=1.2.0 in /usr/local/lib/python3.8/dist-packages (from skan) (1.7.3)\n",
      "Requirement already satisfied: pandas>=1.0 in /usr/local/lib/python3.8/dist-packages (from skan) (1.3.5)\n",
      "Collecting numpydoc>=0.9.2\n",
      "  Downloading numpydoc-1.5.0-py3-none-any.whl (52 kB)\n",
      "\u001B[2K     \u001B[90m━━━━━━━━━━━━━━━━━━━━━━━━━━━━━━━━━━━━━━━━\u001B[0m \u001B[32m52.4/52.4 KB\u001B[0m \u001B[31m7.9 MB/s\u001B[0m eta \u001B[36m0:00:00\u001B[0m\n",
      "\u001B[?25hRequirement already satisfied: matplotlib>=3.0 in /usr/local/lib/python3.8/dist-packages (from skan) (3.2.2)\n",
      "Requirement already satisfied: tqdm>=4.56.0 in /usr/local/lib/python3.8/dist-packages (from skan) (4.64.1)\n",
      "Requirement already satisfied: imageio>=2.0 in /usr/local/lib/python3.8/dist-packages (from skan) (2.9.0)\n",
      "Requirement already satisfied: toolz>=0.10.0 in /usr/local/lib/python3.8/dist-packages (from skan) (0.12.0)\n",
      "Requirement already satisfied: openpyxl>=2.4 in /usr/local/lib/python3.8/dist-packages (from skan) (3.0.10)\n",
      "Requirement already satisfied: numba>=0.50 in /usr/local/lib/python3.8/dist-packages (from skan) (0.56.4)\n",
      "Requirement already satisfied: scikit-image>=0.17 in /usr/local/lib/python3.8/dist-packages (from skan) (0.18.3)\n",
      "Requirement already satisfied: pillow in /usr/local/lib/python3.8/dist-packages (from imageio>=2.0->skan) (7.1.2)\n",
      "Requirement already satisfied: pyparsing!=2.0.4,!=2.1.2,!=2.1.6,>=2.0.1 in /usr/local/lib/python3.8/dist-packages (from matplotlib>=3.0->skan) (3.0.9)\n",
      "Requirement already satisfied: cycler>=0.10 in /usr/local/lib/python3.8/dist-packages (from matplotlib>=3.0->skan) (0.11.0)\n",
      "Requirement already satisfied: python-dateutil>=2.1 in /usr/local/lib/python3.8/dist-packages (from matplotlib>=3.0->skan) (2.8.2)\n",
      "Requirement already satisfied: kiwisolver>=1.0.1 in /usr/local/lib/python3.8/dist-packages (from matplotlib>=3.0->skan) (1.4.4)\n",
      "Requirement already satisfied: setuptools in /usr/local/lib/python3.8/dist-packages (from numba>=0.50->skan) (57.4.0)\n",
      "Requirement already satisfied: importlib-metadata in /usr/local/lib/python3.8/dist-packages (from numba>=0.50->skan) (6.0.0)\n",
      "Requirement already satisfied: llvmlite<0.40,>=0.39.0dev0 in /usr/local/lib/python3.8/dist-packages (from numba>=0.50->skan) (0.39.1)\n",
      "Requirement already satisfied: Jinja2>=2.10 in /usr/local/lib/python3.8/dist-packages (from numpydoc>=0.9.2->skan) (2.11.3)\n",
      "Collecting sphinx>=4.2\n",
      "  Downloading sphinx-6.1.3-py3-none-any.whl (3.0 MB)\n",
      "\u001B[2K     \u001B[90m━━━━━━━━━━━━━━━━━━━━━━━━━━━━━━━━━━━━━━━━\u001B[0m \u001B[32m3.0/3.0 MB\u001B[0m \u001B[31m121.9 MB/s\u001B[0m eta \u001B[36m0:00:00\u001B[0m\n",
      "\u001B[?25hRequirement already satisfied: et-xmlfile in /usr/local/lib/python3.8/dist-packages (from openpyxl>=2.4->skan) (1.1.0)\n",
      "Requirement already satisfied: pytz>=2017.3 in /usr/local/lib/python3.8/dist-packages (from pandas>=1.0->skan) (2022.7)\n",
      "Requirement already satisfied: PyWavelets>=1.1.1 in /usr/local/lib/python3.8/dist-packages (from scikit-image>=0.17->skan) (1.4.1)\n",
      "Requirement already satisfied: tifffile>=2019.7.26 in /usr/local/lib/python3.8/dist-packages (from scikit-image>=0.17->skan) (2022.10.10)\n",
      "Requirement already satisfied: MarkupSafe>=0.23 in /usr/local/lib/python3.8/dist-packages (from Jinja2>=2.10->numpydoc>=0.9.2->skan) (2.0.1)\n",
      "Requirement already satisfied: six>=1.5 in /usr/local/lib/python3.8/dist-packages (from python-dateutil>=2.1->matplotlib>=3.0->skan) (1.15.0)\n",
      "Collecting docutils<0.20,>=0.18\n",
      "  Downloading docutils-0.19-py3-none-any.whl (570 kB)\n",
      "\u001B[2K     \u001B[90m━━━━━━━━━━━━━━━━━━━━━━━━━━━━━━━━━━━━━━\u001B[0m \u001B[32m570.5/570.5 KB\u001B[0m \u001B[31m59.8 MB/s\u001B[0m eta \u001B[36m0:00:00\u001B[0m\n",
      "\u001B[?25hRequirement already satisfied: alabaster<0.8,>=0.7 in /usr/local/lib/python3.8/dist-packages (from sphinx>=4.2->numpydoc>=0.9.2->skan) (0.7.12)\n",
      "Collecting Jinja2>=2.10\n",
      "  Downloading Jinja2-3.1.2-py3-none-any.whl (133 kB)\n",
      "\u001B[2K     \u001B[90m━━━━━━━━━━━━━━━━━━━━━━━━━━━━━━━━━━━━━━\u001B[0m \u001B[32m133.1/133.1 KB\u001B[0m \u001B[31m19.6 MB/s\u001B[0m eta \u001B[36m0:00:00\u001B[0m\n",
      "\u001B[?25hRequirement already satisfied: sphinxcontrib-jsmath in /usr/local/lib/python3.8/dist-packages (from sphinx>=4.2->numpydoc>=0.9.2->skan) (1.0.1)\n",
      "Requirement already satisfied: snowballstemmer>=2.0 in /usr/local/lib/python3.8/dist-packages (from sphinx>=4.2->numpydoc>=0.9.2->skan) (2.2.0)\n",
      "Collecting Pygments>=2.13\n",
      "  Downloading Pygments-2.14.0-py3-none-any.whl (1.1 MB)\n",
      "\u001B[2K     \u001B[90m━━━━━━━━━━━━━━━━━━━━━━━━━━━━━━━━━━━━━━━━\u001B[0m \u001B[32m1.1/1.1 MB\u001B[0m \u001B[31m60.8 MB/s\u001B[0m eta \u001B[36m0:00:00\u001B[0m\n",
      "\u001B[?25hRequirement already satisfied: babel>=2.9 in /usr/local/lib/python3.8/dist-packages (from sphinx>=4.2->numpydoc>=0.9.2->skan) (2.11.0)\n",
      "Requirement already satisfied: requests>=2.25.0 in /usr/local/lib/python3.8/dist-packages (from sphinx>=4.2->numpydoc>=0.9.2->skan) (2.25.1)\n",
      "Requirement already satisfied: sphinxcontrib-applehelp in /usr/local/lib/python3.8/dist-packages (from sphinx>=4.2->numpydoc>=0.9.2->skan) (1.0.3)\n",
      "Requirement already satisfied: sphinxcontrib-htmlhelp>=2.0.0 in /usr/local/lib/python3.8/dist-packages (from sphinx>=4.2->numpydoc>=0.9.2->skan) (2.0.0)\n",
      "Requirement already satisfied: imagesize>=1.3 in /usr/local/lib/python3.8/dist-packages (from sphinx>=4.2->numpydoc>=0.9.2->skan) (1.4.1)\n",
      "Requirement already satisfied: sphinxcontrib-serializinghtml>=1.1.5 in /usr/local/lib/python3.8/dist-packages (from sphinx>=4.2->numpydoc>=0.9.2->skan) (1.1.5)\n",
      "Requirement already satisfied: sphinxcontrib-qthelp in /usr/local/lib/python3.8/dist-packages (from sphinx>=4.2->numpydoc>=0.9.2->skan) (1.0.3)\n",
      "Requirement already satisfied: sphinxcontrib-devhelp in /usr/local/lib/python3.8/dist-packages (from sphinx>=4.2->numpydoc>=0.9.2->skan) (1.0.2)\n",
      "Requirement already satisfied: packaging>=21.0 in /usr/local/lib/python3.8/dist-packages (from sphinx>=4.2->numpydoc>=0.9.2->skan) (21.3)\n",
      "Requirement already satisfied: zipp>=0.5 in /usr/local/lib/python3.8/dist-packages (from importlib-metadata->numba>=0.50->skan) (3.11.0)\n",
      "Requirement already satisfied: certifi>=2017.4.17 in /usr/local/lib/python3.8/dist-packages (from requests>=2.25.0->sphinx>=4.2->numpydoc>=0.9.2->skan) (2022.12.7)\n",
      "Requirement already satisfied: urllib3<1.27,>=1.21.1 in /usr/local/lib/python3.8/dist-packages (from requests>=2.25.0->sphinx>=4.2->numpydoc>=0.9.2->skan) (1.24.3)\n",
      "Requirement already satisfied: chardet<5,>=3.0.2 in /usr/local/lib/python3.8/dist-packages (from requests>=2.25.0->sphinx>=4.2->numpydoc>=0.9.2->skan) (4.0.0)\n",
      "Requirement already satisfied: idna<3,>=2.5 in /usr/local/lib/python3.8/dist-packages (from requests>=2.25.0->sphinx>=4.2->numpydoc>=0.9.2->skan) (2.10)\n",
      "Installing collected packages: Pygments, Jinja2, docutils, sphinx, numpydoc, skan\n",
      "  Attempting uninstall: Pygments\n",
      "    Found existing installation: Pygments 2.6.1\n",
      "    Uninstalling Pygments-2.6.1:\n",
      "      Successfully uninstalled Pygments-2.6.1\n",
      "  Attempting uninstall: Jinja2\n",
      "    Found existing installation: Jinja2 2.11.3\n",
      "    Uninstalling Jinja2-2.11.3:\n",
      "      Successfully uninstalled Jinja2-2.11.3\n",
      "  Attempting uninstall: docutils\n",
      "    Found existing installation: docutils 0.16\n",
      "    Uninstalling docutils-0.16:\n",
      "      Successfully uninstalled docutils-0.16\n",
      "  Attempting uninstall: sphinx\n",
      "    Found existing installation: Sphinx 3.5.4\n",
      "    Uninstalling Sphinx-3.5.4:\n",
      "      Successfully uninstalled Sphinx-3.5.4\n",
      "\u001B[31mERROR: pip's dependency resolver does not currently take into account all the packages that are installed. This behaviour is the source of the following dependency conflicts.\n",
      "ipython 7.9.0 requires jedi>=0.10, which is not installed.\n",
      "notebook 5.7.16 requires jinja2<=3.0.0, but you have jinja2 3.1.2 which is incompatible.\n",
      "flask 1.1.4 requires Jinja2<3.0,>=2.10.1, but you have jinja2 3.1.2 which is incompatible.\u001B[0m\u001B[31m\n",
      "\u001B[0mSuccessfully installed Jinja2-3.1.2 Pygments-2.14.0 docutils-0.19 numpydoc-1.5.0 skan-0.10.0 sphinx-6.1.3\n",
      "Looking in indexes: https://pypi.org/simple, https://us-python.pkg.dev/colab-wheels/public/simple/\n",
      "Collecting aicsimageio\n",
      "  Downloading aicsimageio-4.9.4-py2.py3-none-any.whl (120 kB)\n",
      "\u001B[2K     \u001B[90m━━━━━━━━━━━━━━━━━━━━━━━━━━━━━━━━━━━━━━\u001B[0m \u001B[32m120.3/120.3 KB\u001B[0m \u001B[31m10.7 MB/s\u001B[0m eta \u001B[36m0:00:00\u001B[0m\n",
      "\u001B[?25hRequirement already satisfied: wrapt>=1.12 in /usr/local/lib/python3.8/dist-packages (from aicsimageio) (1.14.1)\n",
      "Requirement already satisfied: numpy<2,>=1.16 in /usr/local/lib/python3.8/dist-packages (from aicsimageio) (1.21.6)\n",
      "Collecting xmlschema\n",
      "  Downloading xmlschema-2.1.1-py3-none-any.whl (354 kB)\n",
      "\u001B[2K     \u001B[90m━━━━━━━━━━━━━━━━━━━━━━━━━━━━━━━━━━━━━━━\u001B[0m \u001B[32m354.3/354.3 KB\u001B[0m \u001B[31m4.5 MB/s\u001B[0m eta \u001B[36m0:00:00\u001B[0m\n",
      "\u001B[?25hCollecting imagecodecs>=2020.5.30\n",
      "  Downloading imagecodecs-2022.12.24-cp38-cp38-manylinux_2_17_x86_64.manylinux2014_x86_64.whl (36.4 MB)\n",
      "\u001B[2K     \u001B[90m━━━━━━━━━━━━━━━━━━━━━━━━━━━━━━━━━━━━━━━━\u001B[0m \u001B[32m36.4/36.4 MB\u001B[0m \u001B[31m53.7 MB/s\u001B[0m eta \u001B[36m0:00:00\u001B[0m\n",
      "\u001B[?25hRequirement already satisfied: fsspec!=2022.7.0,>=2021.4.0 in /usr/local/lib/python3.8/dist-packages (from aicsimageio) (2022.11.0)\n",
      "Requirement already satisfied: lxml<5,>=4.6 in /usr/local/lib/python3.8/dist-packages (from aicsimageio) (4.9.2)\n",
      "Collecting resource-backed-dask-array>=0.1.0\n",
      "  Downloading resource_backed_dask_array-0.1.0-py2.py3-none-any.whl (8.0 kB)\n",
      "Collecting zarr<3,>=2.6\n",
      "  Downloading zarr-2.13.6-py3-none-any.whl (193 kB)\n",
      "\u001B[2K     \u001B[90m━━━━━━━━━━━━━━━━━━━━━━━━━━━━━━━━━━━━━━\u001B[0m \u001B[32m193.0/193.0 KB\u001B[0m \u001B[31m26.3 MB/s\u001B[0m eta \u001B[36m0:00:00\u001B[0m\n",
      "\u001B[?25hRequirement already satisfied: dask[array]>=2021.4.1 in /usr/local/lib/python3.8/dist-packages (from aicsimageio) (2022.2.1)\n",
      "Requirement already satisfied: tifffile>=2021.8.30 in /usr/local/lib/python3.8/dist-packages (from aicsimageio) (2022.10.10)\n",
      "Collecting ome-types>=0.2\n",
      "  Downloading ome_types-0.3.2-py3-none-any.whl (142 kB)\n",
      "\u001B[2K     \u001B[90m━━━━━━━━━━━━━━━━━━━━━━━━━━━━━━━━━━━━━━\u001B[0m \u001B[32m142.5/142.5 KB\u001B[0m \u001B[31m21.4 MB/s\u001B[0m eta \u001B[36m0:00:00\u001B[0m\n",
      "\u001B[?25hRequirement already satisfied: xarray>=0.16.1 in /usr/local/lib/python3.8/dist-packages (from aicsimageio) (2022.12.0)\n",
      "Requirement already satisfied: pyyaml>=5.3.1 in /usr/local/lib/python3.8/dist-packages (from dask[array]>=2021.4.1->aicsimageio) (6.0)\n",
      "Requirement already satisfied: packaging>=20.0 in /usr/local/lib/python3.8/dist-packages (from dask[array]>=2021.4.1->aicsimageio) (21.3)\n",
      "Requirement already satisfied: partd>=0.3.10 in /usr/local/lib/python3.8/dist-packages (from dask[array]>=2021.4.1->aicsimageio) (1.3.0)\n",
      "Requirement already satisfied: cloudpickle>=1.1.1 in /usr/local/lib/python3.8/dist-packages (from dask[array]>=2021.4.1->aicsimageio) (2.2.0)\n",
      "Requirement already satisfied: toolz>=0.8.2 in /usr/local/lib/python3.8/dist-packages (from dask[array]>=2021.4.1->aicsimageio) (0.12.0)\n",
      "Collecting Pint>=0.15\n",
      "  Downloading Pint-0.20.1-py3-none-any.whl (269 kB)\n",
      "\u001B[2K     \u001B[90m━━━━━━━━━━━━━━━━━━━━━━━━━━━━━━━━━━━━━━\u001B[0m \u001B[32m269.5/269.5 KB\u001B[0m \u001B[31m25.1 MB/s\u001B[0m eta \u001B[36m0:00:00\u001B[0m\n",
      "\u001B[?25hRequirement already satisfied: pydantic[email]>=1.0 in /usr/local/lib/python3.8/dist-packages (from ome-types>=0.2->aicsimageio) (1.10.4)\n",
      "Requirement already satisfied: typing-extensions in /usr/local/lib/python3.8/dist-packages (from resource-backed-dask-array>=0.1.0->aicsimageio) (4.4.0)\n",
      "Requirement already satisfied: pandas>=1.3 in /usr/local/lib/python3.8/dist-packages (from xarray>=0.16.1->aicsimageio) (1.3.5)\n",
      "Collecting elementpath<4.0.0,>=3.0.0\n",
      "  Downloading elementpath-3.0.2-py3-none-any.whl (189 kB)\n",
      "\u001B[2K     \u001B[90m━━━━━━━━━━━━━━━━━━━━━━━━━━━━━━━━━━━━━━\u001B[0m \u001B[32m189.1/189.1 KB\u001B[0m \u001B[31m28.0 MB/s\u001B[0m eta \u001B[36m0:00:00\u001B[0m\n",
      "\u001B[?25hCollecting numcodecs>=0.10.0\n",
      "  Downloading numcodecs-0.11.0-cp38-cp38-manylinux_2_17_x86_64.manylinux2014_x86_64.whl (6.7 MB)\n",
      "\u001B[2K     \u001B[90m━━━━━━━━━━━━━━━━━━━━━━━━━━━━━━━━━━━━━━━━\u001B[0m \u001B[32m6.7/6.7 MB\u001B[0m \u001B[31m117.5 MB/s\u001B[0m eta \u001B[36m0:00:00\u001B[0m\n",
      "\u001B[?25hCollecting fasteners\n",
      "  Downloading fasteners-0.18-py3-none-any.whl (18 kB)\n",
      "Collecting asciitree\n",
      "  Downloading asciitree-0.3.3.tar.gz (4.0 kB)\n",
      "  Preparing metadata (setup.py) ... \u001B[?25l\u001B[?25hdone\n",
      "Requirement already satisfied: entrypoints in /usr/local/lib/python3.8/dist-packages (from numcodecs>=0.10.0->zarr<3,>=2.6->aicsimageio) (0.4)\n",
      "Requirement already satisfied: pyparsing!=3.0.5,>=2.0.2 in /usr/local/lib/python3.8/dist-packages (from packaging>=20.0->dask[array]>=2021.4.1->aicsimageio) (3.0.9)\n",
      "Requirement already satisfied: pytz>=2017.3 in /usr/local/lib/python3.8/dist-packages (from pandas>=1.3->xarray>=0.16.1->aicsimageio) (2022.7)\n",
      "Requirement already satisfied: python-dateutil>=2.7.3 in /usr/local/lib/python3.8/dist-packages (from pandas>=1.3->xarray>=0.16.1->aicsimageio) (2.8.2)\n",
      "Requirement already satisfied: locket in /usr/local/lib/python3.8/dist-packages (from partd>=0.3.10->dask[array]>=2021.4.1->aicsimageio) (1.0.0)\n",
      "Collecting email-validator>=1.0.3\n",
      "  Downloading email_validator-1.3.0-py2.py3-none-any.whl (22 kB)\n",
      "Requirement already satisfied: dnspython>=1.15.0 in /usr/local/lib/python3.8/dist-packages (from email-validator>=1.0.3->pydantic[email]>=1.0->ome-types>=0.2->aicsimageio) (2.2.1)\n",
      "Requirement already satisfied: idna>=2.0.0 in /usr/local/lib/python3.8/dist-packages (from email-validator>=1.0.3->pydantic[email]>=1.0->ome-types>=0.2->aicsimageio) (2.10)\n",
      "Requirement already satisfied: six>=1.5 in /usr/local/lib/python3.8/dist-packages (from python-dateutil>=2.7.3->pandas>=1.3->xarray>=0.16.1->aicsimageio) (1.15.0)\n",
      "Building wheels for collected packages: asciitree\n",
      "  Building wheel for asciitree (setup.py) ... \u001B[?25l\u001B[?25hdone\n",
      "  Created wheel for asciitree: filename=asciitree-0.3.3-py3-none-any.whl size=5050 sha256=ba430d1775f837a8d90fb690ab906e2b8ddd0a6d14f1860bacb2687ed5ae409b\n",
      "  Stored in directory: /root/.cache/pip/wheels/a3/d7/75/19cd0d2a893cad4bb0b2b16dd572ad2916d19c0d5ee9612511\n",
      "Successfully built asciitree\n",
      "Installing collected packages: asciitree, Pint, numcodecs, imagecodecs, fasteners, email-validator, elementpath, zarr, xmlschema, ome-types, resource-backed-dask-array, aicsimageio\n",
      "Successfully installed Pint-0.20.1 aicsimageio-4.9.4 asciitree-0.3.3 elementpath-3.0.2 email-validator-1.3.0 fasteners-0.18 imagecodecs-2022.12.24 numcodecs-0.11.0 ome-types-0.3.2 resource-backed-dask-array-0.1.0 xmlschema-2.1.1 zarr-2.13.6\n"
     ]
    }
   ]
  },
  {
   "cell_type": "code",
   "execution_count": 3,
   "id": "7b4edc45-445d-4835-a253-db79aced4eeb",
   "metadata": {
    "id": "7b4edc45-445d-4835-a253-db79aced4eeb",
    "pycharm": {
     "name": "#%%\n"
    },
    "executionInfo": {
     "status": "ok",
     "timestamp": 1674096157081,
     "user_tz": -540,
     "elapsed": 3847,
     "user": {
      "displayName": "A K",
      "userId": "15579580750927195470"
     }
    }
   },
   "outputs": [],
   "source": [
    "# %% Import libraries\n",
    "import numpy as np\n",
    "import matplotlib.pyplot as plt\n",
    "import skimage.io as io  # v.0.18.1\n",
    "from skimage import filters\n",
    "from skimage.morphology import disk\n",
    "from skimage import io\n",
    "from pathlib import Path\n",
    "from os import sep\n",
    "from cv2 import morphologyEx, MORPH_OPEN\n",
    "import sys\n",
    "from aicsimageio.writers.ome_tiff_writer import OmeTiffWriter\n",
    "from aicsimageio import AICSImage"
   ]
  },
  {
   "cell_type": "code",
   "source": [
    "# Import original module\n",
    "project_path = f\"{sep}content{sep}drive{sep}My Drive{sep}my_project{sep}\"\n",
    "sys.path.append(project_path)\n",
    "\n",
    "from cpseg_module.cpseg_functions_colab import ak_rotate_edge_overlay, postprocess, connect_ends"
   ],
   "metadata": {
    "id": "0beV8-IRv7o5",
    "pycharm": {
     "name": "#%%\n"
    },
    "executionInfo": {
     "status": "ok",
     "timestamp": 1674096162252,
     "user_tz": -540,
     "elapsed": 2248,
     "user": {
      "displayName": "A K",
      "userId": "15579580750927195470"
     }
    }
   },
   "id": "0beV8-IRv7o5",
   "execution_count": 4,
   "outputs": []
  },
  {
   "cell_type": "code",
   "source": [
    "# Input image file names in /content/drive/my_project\n",
    "imFile = \"test_data_4d.tif\""
   ],
   "metadata": {
    "id": "nY-chL7QPy8c",
    "pycharm": {
     "name": "#%%\n"
    },
    "executionInfo": {
     "status": "ok",
     "timestamp": 1674096164873,
     "user_tz": -540,
     "elapsed": 240,
     "user": {
      "displayName": "A K",
      "userId": "15579580750927195470"
     }
    }
   },
   "id": "nY-chL7QPy8c",
   "execution_count": 5,
   "outputs": []
  },
  {
   "cell_type": "code",
   "execution_count": 6,
   "id": "f67d8e2f-abb2-41d3-85e5-98901b4e8ee4",
   "metadata": {
    "id": "f67d8e2f-abb2-41d3-85e5-98901b4e8ee4",
    "pycharm": {
     "name": "#%%\n"
    },
    "executionInfo": {
     "status": "ok",
     "timestamp": 1674096166477,
     "user_tz": -540,
     "elapsed": 320,
     "user": {
      "displayName": "A K",
      "userId": "15579580750927195470"
     }
    }
   },
   "outputs": [],
   "source": [
    "# %% Parameters\n",
    "# Image file\n",
    "rootfile = f\"{sep}content{sep}drive{sep}My Drive{sep}my_project{sep}\"\n",
    "# Get image file name\n",
    "imFilename = f\"{rootfile}{imFile}\"              # Image file path                                    \n",
    "se_size = 200                                   # Background subtraction\n",
    "medianValue = [5, 5]#[30, 30]                   # Median filter\n",
    "y_interval = 2  # 5                             # Sparse scan along y-axis, pixel\n",
    "rotation_angle = 4 #3                           # 0: 45 degree, 3: semicircle\n",
    "                                                # 1: 30 degree, 4: semicircle\n",
    "                                                # 2: 15 degree, 5: semicircle\n",
    "changepoint_algo = 1                            # 0: number known, 1: number not known\n",
    "numBorder = 4                                   # Number of change points,\n",
    "                                                # if changepoint_algo = 1, use PELT for panelized detection\n",
    "penalty_value = 100000                          # Penalty cost when numBorder = 0\n",
    "numlayer = 1                                    # 0: single <- avoid in this workflow\n",
    "                                                # 1: overlay multiple\n",
    "model = \"linear\"                                # \"rbf\", \"linear\", \"cosine\"\n",
    "smallNoiseRemov = 1                             # 0:No noise removal\n",
    "                                                # 1:Connect border, then remove small noises\n",
    "                                                # 2:Remove small noisess first, then connect\n",
    "senoise = y_interval * 2                        # Structural element size of morphology opening:default:5\n",
    "neib = 25                                       # Remove small objects less than neib(pixel) default:100\n",
    "select_biggest = 0                              # 0: No selection; 1: select biggest\n",
    "nskeletonize = 1                                # 0: No skeletonization,\n",
    "                                                # 1: with skeletonization\n",
    "postProcessing =    1                           # 0: No\n",
    "                                                # 1: Yes\n",
    "min_j2e_size = 100                              # Remove branch smaller than min_j2e_size                                                  #(pixels), default 1000000 pix\n",
    "connect_gap = 1                                 # 0: No\n",
    "                                                # 1: Yes\n",
    "implot =            0                           # 0: No image\n",
    "                                                # 1: Plot image\n",
    "save_data =         1                           # 0: Do not save data\n",
    "                                                # 1: Save data"
   ]
  },
  {
   "cell_type": "code",
   "execution_count": 8,
   "id": "5698df2b-a127-4e38-8718-b52495d912a5",
   "metadata": {
    "id": "5698df2b-a127-4e38-8718-b52495d912a5",
    "executionInfo": {
     "status": "ok",
     "timestamp": 1674096576917,
     "user_tz": -540,
     "elapsed": 275228,
     "user": {
      "displayName": "A K",
      "userId": "15579580750927195470"
     }
    },
    "pycharm": {
     "name": "#%%\n"
    },
    "colab": {
     "base_uri": "https://localhost:8080/"
    },
    "outputId": "8ae25513-a331-4008-d45b-cb2ab1370cf7"
   },
   "outputs": [
    {
     "output_type": "stream",
     "name": "stdout",
     "text": [
      "Time# is 0, z-slice# is 0.\n",
      "Edge detected.\n",
      "prune repeat: 1\n",
      "prune repeat: 2\n",
      "Time# is 0, z-slice# is 1.\n",
      "Edge detected.\n",
      "prune repeat: 1\n",
      "prune repeat: 2\n",
      "prune repeat: 3\n",
      "Time# is 0, z-slice# is 2.\n",
      "Edge detected.\n",
      "prune repeat: 1\n",
      "prune repeat: 2\n",
      "Time# is 1, z-slice# is 0.\n",
      "Edge detected.\n",
      "prune repeat: 1\n",
      "prune repeat: 2\n",
      "Time# is 1, z-slice# is 1.\n",
      "Edge detected.\n",
      "prune repeat: 1\n",
      "prune repeat: 2\n",
      "prune repeat: 3\n",
      "Time# is 1, z-slice# is 2.\n",
      "Edge detected.\n",
      "prune repeat: 1\n",
      "prune repeat: 2\n",
      "prune repeat: 3\n",
      "Time# is 2, z-slice# is 0.\n",
      "Edge detected.\n",
      "prune repeat: 1\n",
      "prune repeat: 2\n",
      "prune repeat: 3\n",
      "Time# is 2, z-slice# is 1.\n",
      "Edge detected.\n",
      "prune repeat: 1\n",
      "prune repeat: 2\n",
      "prune repeat: 3\n",
      "Time# is 2, z-slice# is 2.\n",
      "Edge detected.\n",
      "prune repeat: 1\n"
     ]
    }
   ],
   "source": [
    "#%% Processing\n",
    "\n",
    "# Load info\n",
    "I0 = AICSImage(imFilename) # Load image\n",
    "\n",
    "# Create edge container\n",
    "shape4d = list(I0.shape)\n",
    "shape4d.pop(1)\n",
    "BW_proposed_pp = np.zeros(shape4d, dtype='int8')\n",
    "\n",
    "# Create parameter lists\n",
    "Ts = np.arange(I0.dims.T)\n",
    "Cs = np.arange(I0.dims.C)\n",
    "Zs = np.arange(I0.dims.Z)\n",
    "TCZ_list = [(t,c,z) for t in Ts for c in Cs for z in Zs]\n",
    "\n",
    "for t, c, z in TCZ_list:\n",
    "    print(F'Time# is {t}, z-slice# is {z}.')\n",
    "    lazy_Iori = I0.get_image_dask_data(\"YX\", T=t, C=c, Z=z) # returns out-of-memory 4D dask array\n",
    "    Iori = lazy_Iori.compute() # returns in-memory 4D numpy array\n",
    "\n",
    "    # Pre-processing\n",
    "    se_imopen = disk(se_size)                                           # structrul element for morph open\n",
    "    background = morphologyEx(Iori, MORPH_OPEN, se_imopen)            # opening\n",
    "    I_bg = Iori - background                                            # Subtract background\n",
    "    Ien = filters.median(I_bg, disk(medianValue[0]))                  # Smoothing filter\n",
    "\n",
    "    # Edge detection\n",
    "    def proposed():\n",
    "        BW = ak_rotate_edge_overlay\\\n",
    "            (Ien,numlayer,rotation_angle,numBorder,model,y_interval,penalty_value, changepoint_algo)\n",
    "        print('Edge detected.')\n",
    "\n",
    "        # Post-processing\n",
    "        if postProcessing == 0:\n",
    "            BWlast = np.copy(BW)\n",
    "        elif postProcessing == 1:\n",
    "            BWlast = postprocess(BW, min_j2e_size)\n",
    "            if connect_gap == 1:\n",
    "                BWlast = connect_ends(BWlast, min_j2e_size)\n",
    "\n",
    "        #BW_proposed_pp[iz, :, :] = BWlast\n",
    "        BW_proposed_pp[t, z, :, :] = BWlast\n",
    "\n",
    "        # Plot images\n",
    "        if implot == 1:\n",
    "            fig, ax = plt.subplots(nrows=3, ncols=1, tight_layout=False, figsize=(10, 10), sharex=True, sharey=True)\n",
    "            ax[0].imshow(Iori, cmap='gray')\n",
    "            ax[1].imshow(BW, cmap='gray_r')\n",
    "            ax[2].imshow(BWlast, cmap='gray_r')\n",
    "\n",
    "            for irows in np.arange(3):\n",
    "                ax[irows].set_xticks([])\n",
    "                ax[irows].set_yticks([])\n",
    "\n",
    "            plt.show()\n",
    "    proposed()"
   ]
  },
  {
   "cell_type": "code",
   "execution_count": 9,
   "outputs": [
    {
     "output_type": "stream",
     "name": "stderr",
     "text": [
      "/usr/local/lib/python3.8/dist-packages/ome_types/_convenience.py:105: FutureWarning: The default XML parser will be changing from 'xmlschema' to 'lxml' in version 0.4.0.  To silence this warning, please provide the `parser` argument, specifying either 'lxml' (to opt into the new behavior), or'xmlschema' (to retain the old behavior).\n",
      "  d = to_dict(os.fspath(xml), parser=parser, validate=validate)\n"
     ]
    }
   ],
   "source": [
    "# Save edge\n",
    "result_path = f\"{project_path}result{sep}\"\n",
    "save_file = f\"{result_path}edge_stack.tif\"\n",
    "OmeTiffWriter.save(BW_proposed_pp, save_file, dim_order=\"TZYX\")"
   ],
   "metadata": {
    "pycharm": {
     "name": "#%%\n"
    },
    "id": "hI7HelddpfRk",
    "colab": {
     "base_uri": "https://localhost:8080/"
    },
    "executionInfo": {
     "status": "ok",
     "timestamp": 1674096829765,
     "user_tz": -540,
     "elapsed": 1753,
     "user": {
      "displayName": "A K",
      "userId": "15579580750927195470"
     }
    },
    "outputId": "aad89e7c-1a36-47a6-ac51-d77b105d3511"
   },
   "id": "hI7HelddpfRk"
  }
 ],
 "metadata": {
  "kernelspec": {
   "display_name": "Python 3 (ipykernel)",
   "language": "python",
   "name": "python3"
  },
  "language_info": {
   "codemirror_mode": {
    "name": "ipython",
    "version": 3
   },
   "file_extension": ".py",
   "mimetype": "text/x-python",
   "name": "python",
   "nbconvert_exporter": "python",
   "pygments_lexer": "ipython3",
   "version": "3.9.7"
  },
  "colab": {
   "provenance": [
    {
     "file_id": "1fwp4vW1KxVe7AezUxjSqQNmycVC_lmlE",
     "timestamp": 1674015604986
    },
    {
     "file_id": "1CHS8YqokdEAiq0JlJ81l75mxsIEi7HFf",
     "timestamp": 1656557724157
    }
   ]
  }
 },
 "nbformat": 4,
 "nbformat_minor": 5
}
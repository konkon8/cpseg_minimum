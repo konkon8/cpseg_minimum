{
  "cells": [
    {
      "cell_type": "markdown",
      "id": "9504ba8b-53e8-4129-b054-8bce428a9692",
      "metadata": {
        "id": "9504ba8b-53e8-4129-b054-8bce428a9692",
        "pycharm": {
          "name": "#%% md\n"
        }
      },
      "source": [
        "Description: Detect edge & evaluate FOM of proposed method with various noise level\n",
        "\n",
        "Python version: 3.9"
      ]
    },
    {
      "cell_type": "code",
      "source": [
        "# Link Google colab notebook to your personal google drive account.\n",
        "\n",
        "from google.colab import drive\n",
        "drive.mount('/content/drive')"
      ],
      "metadata": {
        "colab": {
          "base_uri": "https://localhost:8080/"
        },
        "id": "fKKJSDF4iana",
        "outputId": "8d22244a-5a2f-4507-f436-45ce7bc82dbf",
        "pycharm": {
          "name": "#%%\n"
        }
      },
      "id": "fKKJSDF4iana",
      "execution_count": 23,
      "outputs": [
        {
          "output_type": "stream",
          "name": "stdout",
          "text": [
            "Drive already mounted at /content/drive; to attempt to forcibly remount, call drive.mount(\"/content/drive\", force_remount=True).\n"
          ]
        }
      ]
    },
    {
      "cell_type": "code",
      "source": [
        "# Install packages\n",
        "!pip install ruptures\n",
        "!pip install skan\n",
        "!pip install aicsimageio"
      ],
      "metadata": {
        "colab": {
          "base_uri": "https://localhost:8080/"
        },
        "id": "6FsZaVNhsAP2",
        "outputId": "549b4749-741b-4826-c566-983c31cedce2",
        "pycharm": {
          "name": "#%%\n"
        }
      },
      "id": "6FsZaVNhsAP2",
      "execution_count": 24,
      "outputs": [
        {
          "output_type": "stream",
          "name": "stdout",
          "text": [
            "Looking in indexes: https://pypi.org/simple, https://us-python.pkg.dev/colab-wheels/public/simple/\n",
            "Requirement already satisfied: ruptures in /usr/local/lib/python3.8/dist-packages (1.1.7)\n",
            "Requirement already satisfied: scipy in /usr/local/lib/python3.8/dist-packages (from ruptures) (1.7.3)\n",
            "Requirement already satisfied: numpy in /usr/local/lib/python3.8/dist-packages (from ruptures) (1.21.6)\n",
            "Looking in indexes: https://pypi.org/simple, https://us-python.pkg.dev/colab-wheels/public/simple/\n",
            "Requirement already satisfied: skan in /usr/local/lib/python3.8/dist-packages (0.10.0)\n",
            "Requirement already satisfied: toolz>=0.10.0 in /usr/local/lib/python3.8/dist-packages (from skan) (0.12.0)\n",
            "Requirement already satisfied: matplotlib>=3.0 in /usr/local/lib/python3.8/dist-packages (from skan) (3.2.2)\n",
            "Requirement already satisfied: imageio>=2.0 in /usr/local/lib/python3.8/dist-packages (from skan) (2.9.0)\n",
            "Requirement already satisfied: numpy>=1.16.5 in /usr/local/lib/python3.8/dist-packages (from skan) (1.21.6)\n",
            "Requirement already satisfied: pandas>=1.0 in /usr/local/lib/python3.8/dist-packages (from skan) (1.3.5)\n",
            "Requirement already satisfied: scikit-image>=0.17 in /usr/local/lib/python3.8/dist-packages (from skan) (0.18.3)\n",
            "Requirement already satisfied: networkx>=2.0 in /usr/local/lib/python3.8/dist-packages (from skan) (3.0)\n",
            "Requirement already satisfied: openpyxl>=2.4 in /usr/local/lib/python3.8/dist-packages (from skan) (3.0.10)\n",
            "Requirement already satisfied: numba>=0.50 in /usr/local/lib/python3.8/dist-packages (from skan) (0.56.4)\n",
            "Requirement already satisfied: scipy>=1.2.0 in /usr/local/lib/python3.8/dist-packages (from skan) (1.7.3)\n",
            "Requirement already satisfied: tqdm>=4.56.0 in /usr/local/lib/python3.8/dist-packages (from skan) (4.64.1)\n",
            "Requirement already satisfied: numpydoc>=0.9.2 in /usr/local/lib/python3.8/dist-packages (from skan) (1.5.0)\n",
            "Requirement already satisfied: pillow in /usr/local/lib/python3.8/dist-packages (from imageio>=2.0->skan) (7.1.2)\n",
            "Requirement already satisfied: kiwisolver>=1.0.1 in /usr/local/lib/python3.8/dist-packages (from matplotlib>=3.0->skan) (1.4.4)\n",
            "Requirement already satisfied: python-dateutil>=2.1 in /usr/local/lib/python3.8/dist-packages (from matplotlib>=3.0->skan) (2.8.2)\n",
            "Requirement already satisfied: cycler>=0.10 in /usr/local/lib/python3.8/dist-packages (from matplotlib>=3.0->skan) (0.11.0)\n",
            "Requirement already satisfied: pyparsing!=2.0.4,!=2.1.2,!=2.1.6,>=2.0.1 in /usr/local/lib/python3.8/dist-packages (from matplotlib>=3.0->skan) (3.0.9)\n",
            "Requirement already satisfied: setuptools in /usr/local/lib/python3.8/dist-packages (from numba>=0.50->skan) (57.4.0)\n",
            "Requirement already satisfied: importlib-metadata in /usr/local/lib/python3.8/dist-packages (from numba>=0.50->skan) (6.0.0)\n",
            "Requirement already satisfied: llvmlite<0.40,>=0.39.0dev0 in /usr/local/lib/python3.8/dist-packages (from numba>=0.50->skan) (0.39.1)\n",
            "Requirement already satisfied: sphinx>=4.2 in /usr/local/lib/python3.8/dist-packages (from numpydoc>=0.9.2->skan) (6.1.3)\n",
            "Requirement already satisfied: Jinja2>=2.10 in /usr/local/lib/python3.8/dist-packages (from numpydoc>=0.9.2->skan) (3.1.2)\n",
            "Requirement already satisfied: et-xmlfile in /usr/local/lib/python3.8/dist-packages (from openpyxl>=2.4->skan) (1.1.0)\n",
            "Requirement already satisfied: pytz>=2017.3 in /usr/local/lib/python3.8/dist-packages (from pandas>=1.0->skan) (2022.7)\n",
            "Requirement already satisfied: tifffile>=2019.7.26 in /usr/local/lib/python3.8/dist-packages (from scikit-image>=0.17->skan) (2022.10.10)\n",
            "Requirement already satisfied: PyWavelets>=1.1.1 in /usr/local/lib/python3.8/dist-packages (from scikit-image>=0.17->skan) (1.4.1)\n",
            "Requirement already satisfied: MarkupSafe>=2.0 in /usr/local/lib/python3.8/dist-packages (from Jinja2>=2.10->numpydoc>=0.9.2->skan) (2.0.1)\n",
            "Requirement already satisfied: six>=1.5 in /usr/local/lib/python3.8/dist-packages (from python-dateutil>=2.1->matplotlib>=3.0->skan) (1.15.0)\n",
            "Requirement already satisfied: sphinxcontrib-qthelp in /usr/local/lib/python3.8/dist-packages (from sphinx>=4.2->numpydoc>=0.9.2->skan) (1.0.3)\n",
            "Requirement already satisfied: docutils<0.20,>=0.18 in /usr/local/lib/python3.8/dist-packages (from sphinx>=4.2->numpydoc>=0.9.2->skan) (0.19)\n",
            "Requirement already satisfied: alabaster<0.8,>=0.7 in /usr/local/lib/python3.8/dist-packages (from sphinx>=4.2->numpydoc>=0.9.2->skan) (0.7.12)\n",
            "Requirement already satisfied: packaging>=21.0 in /usr/local/lib/python3.8/dist-packages (from sphinx>=4.2->numpydoc>=0.9.2->skan) (21.3)\n",
            "Requirement already satisfied: Pygments>=2.13 in /usr/local/lib/python3.8/dist-packages (from sphinx>=4.2->numpydoc>=0.9.2->skan) (2.14.0)\n",
            "Requirement already satisfied: sphinxcontrib-htmlhelp>=2.0.0 in /usr/local/lib/python3.8/dist-packages (from sphinx>=4.2->numpydoc>=0.9.2->skan) (2.0.0)\n",
            "Requirement already satisfied: imagesize>=1.3 in /usr/local/lib/python3.8/dist-packages (from sphinx>=4.2->numpydoc>=0.9.2->skan) (1.4.1)\n",
            "Requirement already satisfied: requests>=2.25.0 in /usr/local/lib/python3.8/dist-packages (from sphinx>=4.2->numpydoc>=0.9.2->skan) (2.25.1)\n",
            "Requirement already satisfied: sphinxcontrib-devhelp in /usr/local/lib/python3.8/dist-packages (from sphinx>=4.2->numpydoc>=0.9.2->skan) (1.0.2)\n",
            "Requirement already satisfied: babel>=2.9 in /usr/local/lib/python3.8/dist-packages (from sphinx>=4.2->numpydoc>=0.9.2->skan) (2.11.0)\n",
            "Requirement already satisfied: sphinxcontrib-applehelp in /usr/local/lib/python3.8/dist-packages (from sphinx>=4.2->numpydoc>=0.9.2->skan) (1.0.3)\n",
            "Requirement already satisfied: snowballstemmer>=2.0 in /usr/local/lib/python3.8/dist-packages (from sphinx>=4.2->numpydoc>=0.9.2->skan) (2.2.0)\n",
            "Requirement already satisfied: sphinxcontrib-jsmath in /usr/local/lib/python3.8/dist-packages (from sphinx>=4.2->numpydoc>=0.9.2->skan) (1.0.1)\n",
            "Requirement already satisfied: sphinxcontrib-serializinghtml>=1.1.5 in /usr/local/lib/python3.8/dist-packages (from sphinx>=4.2->numpydoc>=0.9.2->skan) (1.1.5)\n",
            "Requirement already satisfied: zipp>=0.5 in /usr/local/lib/python3.8/dist-packages (from importlib-metadata->numba>=0.50->skan) (3.11.0)\n",
            "Requirement already satisfied: chardet<5,>=3.0.2 in /usr/local/lib/python3.8/dist-packages (from requests>=2.25.0->sphinx>=4.2->numpydoc>=0.9.2->skan) (4.0.0)\n",
            "Requirement already satisfied: idna<3,>=2.5 in /usr/local/lib/python3.8/dist-packages (from requests>=2.25.0->sphinx>=4.2->numpydoc>=0.9.2->skan) (2.10)\n",
            "Requirement already satisfied: urllib3<1.27,>=1.21.1 in /usr/local/lib/python3.8/dist-packages (from requests>=2.25.0->sphinx>=4.2->numpydoc>=0.9.2->skan) (1.24.3)\n",
            "Requirement already satisfied: certifi>=2017.4.17 in /usr/local/lib/python3.8/dist-packages (from requests>=2.25.0->sphinx>=4.2->numpydoc>=0.9.2->skan) (2022.12.7)\n",
            "Looking in indexes: https://pypi.org/simple, https://us-python.pkg.dev/colab-wheels/public/simple/\n",
            "Requirement already satisfied: aicsimageio in /usr/local/lib/python3.8/dist-packages (4.9.4)\n",
            "Requirement already satisfied: numpy<2,>=1.16 in /usr/local/lib/python3.8/dist-packages (from aicsimageio) (1.21.6)\n",
            "Requirement already satisfied: tifffile>=2021.8.30 in /usr/local/lib/python3.8/dist-packages (from aicsimageio) (2022.10.10)\n",
            "Requirement already satisfied: xmlschema in /usr/local/lib/python3.8/dist-packages (from aicsimageio) (2.1.1)\n",
            "Requirement already satisfied: zarr<3,>=2.6 in /usr/local/lib/python3.8/dist-packages (from aicsimageio) (2.13.3)\n",
            "Requirement already satisfied: fsspec!=2022.7.0,>=2021.4.0 in /usr/local/lib/python3.8/dist-packages (from aicsimageio) (2022.11.0)\n",
            "Requirement already satisfied: imagecodecs>=2020.5.30 in /usr/local/lib/python3.8/dist-packages (from aicsimageio) (2022.12.24)\n",
            "Requirement already satisfied: ome-types>=0.2 in /usr/local/lib/python3.8/dist-packages (from aicsimageio) (0.3.2)\n",
            "Requirement already satisfied: xarray>=0.16.1 in /usr/local/lib/python3.8/dist-packages (from aicsimageio) (2022.12.0)\n",
            "Requirement already satisfied: dask[array]>=2021.4.1 in /usr/local/lib/python3.8/dist-packages (from aicsimageio) (2022.2.1)\n",
            "Requirement already satisfied: lxml<5,>=4.6 in /usr/local/lib/python3.8/dist-packages (from aicsimageio) (4.9.2)\n",
            "Requirement already satisfied: wrapt>=1.12 in /usr/local/lib/python3.8/dist-packages (from aicsimageio) (1.14.1)\n",
            "Requirement already satisfied: resource-backed-dask-array>=0.1.0 in /usr/local/lib/python3.8/dist-packages (from aicsimageio) (0.1.0)\n",
            "Requirement already satisfied: toolz>=0.8.2 in /usr/local/lib/python3.8/dist-packages (from dask[array]>=2021.4.1->aicsimageio) (0.12.0)\n",
            "Requirement already satisfied: cloudpickle>=1.1.1 in /usr/local/lib/python3.8/dist-packages (from dask[array]>=2021.4.1->aicsimageio) (2.2.0)\n",
            "Requirement already satisfied: packaging>=20.0 in /usr/local/lib/python3.8/dist-packages (from dask[array]>=2021.4.1->aicsimageio) (21.3)\n",
            "Requirement already satisfied: partd>=0.3.10 in /usr/local/lib/python3.8/dist-packages (from dask[array]>=2021.4.1->aicsimageio) (1.3.0)\n",
            "Requirement already satisfied: pyyaml>=5.3.1 in /usr/local/lib/python3.8/dist-packages (from dask[array]>=2021.4.1->aicsimageio) (6.0)\n",
            "Requirement already satisfied: Pint>=0.15 in /usr/local/lib/python3.8/dist-packages (from ome-types>=0.2->aicsimageio) (0.20.1)\n",
            "Requirement already satisfied: pydantic[email]>=1.0 in /usr/local/lib/python3.8/dist-packages (from ome-types>=0.2->aicsimageio) (1.10.4)\n",
            "Requirement already satisfied: typing-extensions in /usr/local/lib/python3.8/dist-packages (from resource-backed-dask-array>=0.1.0->aicsimageio) (4.4.0)\n",
            "Requirement already satisfied: pandas>=1.3 in /usr/local/lib/python3.8/dist-packages (from xarray>=0.16.1->aicsimageio) (1.3.5)\n",
            "Requirement already satisfied: elementpath<4.0.0,>=3.0.0 in /usr/local/lib/python3.8/dist-packages (from xmlschema->aicsimageio) (3.0.2)\n",
            "Requirement already satisfied: numcodecs>=0.10.0 in /usr/local/lib/python3.8/dist-packages (from zarr<3,>=2.6->aicsimageio) (0.11.0)\n",
            "Requirement already satisfied: fasteners in /usr/local/lib/python3.8/dist-packages (from zarr<3,>=2.6->aicsimageio) (0.18)\n",
            "Requirement already satisfied: asciitree in /usr/local/lib/python3.8/dist-packages (from zarr<3,>=2.6->aicsimageio) (0.3.3)\n",
            "Requirement already satisfied: entrypoints in /usr/local/lib/python3.8/dist-packages (from numcodecs>=0.10.0->zarr<3,>=2.6->aicsimageio) (0.4)\n",
            "Requirement already satisfied: pyparsing!=3.0.5,>=2.0.2 in /usr/local/lib/python3.8/dist-packages (from packaging>=20.0->dask[array]>=2021.4.1->aicsimageio) (3.0.9)\n",
            "Requirement already satisfied: pytz>=2017.3 in /usr/local/lib/python3.8/dist-packages (from pandas>=1.3->xarray>=0.16.1->aicsimageio) (2022.7)\n",
            "Requirement already satisfied: python-dateutil>=2.7.3 in /usr/local/lib/python3.8/dist-packages (from pandas>=1.3->xarray>=0.16.1->aicsimageio) (2.8.2)\n",
            "Requirement already satisfied: locket in /usr/local/lib/python3.8/dist-packages (from partd>=0.3.10->dask[array]>=2021.4.1->aicsimageio) (1.0.0)\n",
            "Requirement already satisfied: email-validator>=1.0.3 in /usr/local/lib/python3.8/dist-packages (from pydantic[email]>=1.0->ome-types>=0.2->aicsimageio) (1.3.0)\n",
            "Requirement already satisfied: idna>=2.0.0 in /usr/local/lib/python3.8/dist-packages (from email-validator>=1.0.3->pydantic[email]>=1.0->ome-types>=0.2->aicsimageio) (2.10)\n",
            "Requirement already satisfied: dnspython>=1.15.0 in /usr/local/lib/python3.8/dist-packages (from email-validator>=1.0.3->pydantic[email]>=1.0->ome-types>=0.2->aicsimageio) (2.2.1)\n",
            "Requirement already satisfied: six>=1.5 in /usr/local/lib/python3.8/dist-packages (from python-dateutil>=2.7.3->pandas>=1.3->xarray>=0.16.1->aicsimageio) (1.15.0)\n"
          ]
        }
      ]
    },
    {
      "cell_type": "code",
      "execution_count": 43,
      "id": "7b4edc45-445d-4835-a253-db79aced4eeb",
      "metadata": {
        "id": "7b4edc45-445d-4835-a253-db79aced4eeb",
        "pycharm": {
          "name": "#%%\n"
        }
      },
      "outputs": [],
      "source": [
        "# %% Import libraries\n",
        "import numpy as np\n",
        "import matplotlib.pyplot as plt\n",
        "import skimage.io as io  # v.0.18.1\n",
        "from skimage import filters\n",
        "from skimage.morphology import disk\n",
        "from skimage import io\n",
        "from pathlib import Path\n",
        "from os import sep\n",
        "from cv2 import morphologyEx, MORPH_OPEN\n",
        "import sys\n",
        "from aicsimageio.writers.ome_tiff_writer import OmeTiffWriter\n",
        "from aicsimageio import AICSImage"
      ]
    },
    {
      "cell_type": "code",
      "source": [
        "# Import original module\n",
        "project_path = f\"{sep}content{sep}drive{sep}My Drive{sep}my_project{sep}\"\n",
        "sys.path.append(project_path)\n",
        "\n",
        "from cpseg_module.cpseg_functions_colab_v2 import ak_rotate_edge_overlay, postprocess, connect_ends"
      ],
      "metadata": {
        "id": "0beV8-IRv7o5",
        "pycharm": {
          "name": "#%%\n"
        }
      },
      "id": "0beV8-IRv7o5",
      "execution_count": 44,
      "outputs": []
    },
    {
      "cell_type": "code",
      "source": [
        "# Input image file names in /content/drive/my_project\n",
        "imFile = \"test_data_4d.tif\""
      ],
      "metadata": {
        "id": "nY-chL7QPy8c",
        "pycharm": {
          "name": "#%%\n"
        }
      },
      "id": "nY-chL7QPy8c",
      "execution_count": 45,
      "outputs": []
    },
    {
      "cell_type": "code",
      "execution_count": 46,
      "id": "f67d8e2f-abb2-41d3-85e5-98901b4e8ee4",
      "metadata": {
        "id": "f67d8e2f-abb2-41d3-85e5-98901b4e8ee4",
        "pycharm": {
          "name": "#%%\n"
        }
      },
      "outputs": [],
      "source": [
        "# %% Parameters\n",
        "# Image file\n",
        "rootfile = f\"{sep}content{sep}drive{sep}My Drive{sep}my_project{sep}\"\n",
        "# Get image file name\n",
        "imFilename = f\"{rootfile}{imFile}\"              # Image file path                                    \n",
        "se_size = 200                                   # Background subtraction\n",
        "medianValue = [5, 5]#[30, 30]                   # Median filter\n",
        "y_interval = 2  # 5                             # Sparse scan along y-axis, pixel\n",
        "rotation_angle = 4 #3                           # 0: 45 degree, 3: semicircle\n",
        "                                                # 1: 30 degree, 4: semicircle\n",
        "                                                # 2: 15 degree, 5: semicircle\n",
        "changepoint_algo = 1                            # 0: number known, 1: number not known\n",
        "numBorder = 4                                   # Number of change points,\n",
        "                                                # if changepoint_algo = 1, use PELT for panelized detection\n",
        "penalty_value = 100000                          # Penalty cost when numBorder = 0\n",
        "numlayer = 1                                    # 0: single <- avoid in this workflow\n",
        "                                                # 1: overlay multiple\n",
        "model = \"linear\"                                # \"rbf\", \"linear\", \"cosine\"\n",
        "smallNoiseRemov = 1                             # 0:No noise removal\n",
        "                                                # 1:Connect border, then remove small noises\n",
        "                                                # 2:Remove small noisess first, then connect\n",
        "senoise = y_interval * 2                        # Structural element size of morphology opening:default:5\n",
        "neib = 25                                       # Remove small objects less than neib(pixel) default:100\n",
        "select_biggest = 0                              # 0: No selection; 1: select biggest\n",
        "nskeletonize = 1                                # 0: No skeletonization,\n",
        "                                                # 1: with skeletonization\n",
        "postProcessing =    1                           # 0: No\n",
        "                                                # 1: Yes\n",
        "min_j2e_size = 100                              # Remove branch smaller than min_j2e_size                                                  #(pixels), default 1000000 pix\n",
        "connect_gap = 1                                 # 0: No\n",
        "                                                # 1: Yes\n",
        "implot =            0                           # 0: No image\n",
        "                                                # 1: Plot image\n",
        "save_data =         1                           # 0: Do not save data\n",
        "                                                # 1: Save data"
      ]
    },
    {
      "cell_type": "code",
      "execution_count": 54,
      "id": "5698df2b-a127-4e38-8718-b52495d912a5",
      "metadata": {
        "id": "5698df2b-a127-4e38-8718-b52495d912a5",
        "pycharm": {
          "name": "#%%\n"
        },
        "colab": {
          "base_uri": "https://localhost:8080/"
        },
        "outputId": "5395fd3a-987c-4ac0-9890-de3771c7a960"
      },
      "outputs": [
        {
          "output_type": "stream",
          "name": "stdout",
          "text": [
            "(3, 1, 3, 668, 695)\n",
            "<class 'numpy.ndarray'>\n",
            "(3, 1, 3, 668, 695)\n",
            "Image number is 0.\n",
            "Edge detected.\n",
            "prune repeat: 1\n",
            "prune repeat: 2\n",
            "Image number is 1.\n",
            "Edge detected.\n",
            "prune repeat: 1\n",
            "prune repeat: 2\n",
            "prune repeat: 3\n",
            "Image number is 2.\n",
            "Edge detected.\n",
            "prune repeat: 1\n",
            "prune repeat: 2\n",
            "Image number is 3.\n",
            "Edge detected.\n",
            "prune repeat: 1\n",
            "prune repeat: 2\n",
            "Image number is 4.\n",
            "Edge detected.\n",
            "prune repeat: 1\n",
            "prune repeat: 2\n",
            "prune repeat: 3\n",
            "Image number is 5.\n",
            "Edge detected.\n",
            "prune repeat: 1\n",
            "prune repeat: 2\n",
            "prune repeat: 3\n",
            "Image number is 6.\n",
            "Edge detected.\n",
            "prune repeat: 1\n",
            "prune repeat: 2\n",
            "prune repeat: 3\n",
            "Image number is 7.\n",
            "Edge detected.\n",
            "prune repeat: 1\n",
            "prune repeat: 2\n",
            "prune repeat: 3\n",
            "Image number is 8.\n",
            "Edge detected.\n",
            "prune repeat: 1\n"
          ]
        }
      ],
      "source": [
        "# %% Processing\n",
        " # Load image\n",
        "I0 = AICSImage(imFilename)\n",
        "I0 = I0.data\n",
        "\n",
        "# Convert images to 3d\n",
        "I0_1 = np.copy(I0)\n",
        "num_image = np.shape(I0)[0] * np.shape(I0)[2]\n",
        "I0_1 = np.reshape(I0, (num_image, np.shape(I0)[-2], np.shape(I0)[-1]))\n",
        "BW_proposed_pp = np.zeros_like(I0_1) # Edge containers\n",
        "\n",
        "for iz in np.arange(num_image):\n",
        "    print(F'Image number is {iz}.')\n",
        "    Iori = I0_1[iz,:,:]\n",
        "\n",
        "    # Pre-processing\n",
        "    se_imopen = disk(se_size)                                           # structrul element for morph open\n",
        "    background = morphologyEx(Iori, MORPH_OPEN, se_imopen)      # opening\n",
        "    I_bg = Iori - background                                            # Subtract background\n",
        "    Ien = filters.median(I_bg, disk(medianValue[0]))                  # Smoothing filter\n",
        "\n",
        "    # Edge detection\n",
        "    def proposed():\n",
        "        BW = ak_rotate_edge_overlay\\\n",
        "            (Ien,numlayer,rotation_angle,numBorder,model,y_interval,penalty_value, changepoint_algo)\n",
        "        print('Edge detected.')\n",
        "\n",
        "        # Post-processing\n",
        "        if postProcessing == 0:\n",
        "            BWlast = np.copy(BW)\n",
        "        elif postProcessing == 1:\n",
        "            BWlast = postprocess(BW, min_j2e_size)\n",
        "            if connect_gap == 1:\n",
        "                BWlast = connect_ends(BWlast, min_j2e_size)\n",
        "\n",
        "        BW_proposed_pp[iz, :, :] = BWlast\n",
        "\n",
        "        # Plot images\n",
        "        if implot == 1:\n",
        "            fig, ax = plt.subplots(nrows=3, ncols=1, tight_layout=False, figsize=(10, 10), sharex=True, sharey=True)\n",
        "            ax[0].imshow(Iori, cmap='gray')\n",
        "            ax[1].imshow(BW, cmap='gray_r')\n",
        "            ax[2].imshow(BWlast, cmap='gray_r')\n",
        "\n",
        "            for irows in np.arange(3):\n",
        "                ax[irows].set_xticks([])\n",
        "                ax[irows].set_yticks([])\n",
        "\n",
        "            plt.show()\n",
        "    proposed()\n",
        "\n",
        "# Reversely convert to 4D\n",
        "BW_proposed_pp = np.reshape(BW_proposed_pp, (np.shape(I0)[0], np.shape(I0)[2], np.shape(I0)[-2], np.shape(I0)[-1]),order='C')"
      ]
    },
    {
      "cell_type": "code",
      "execution_count": 60,
      "outputs": [
        {
          "output_type": "stream",
          "name": "stderr",
          "text": [
            "/usr/local/lib/python3.8/dist-packages/ome_types/_convenience.py:105: FutureWarning: The default XML parser will be changing from 'xmlschema' to 'lxml' in version 0.4.0.  To silence this warning, please provide the `parser` argument, specifying either 'lxml' (to opt into the new behavior), or'xmlschema' (to retain the old behavior).\n",
            "  d = to_dict(os.fspath(xml), parser=parser, validate=validate)\n"
          ]
        }
      ],
      "source": [
        "# Save edge\n",
        "result_path = f\"{project_path}result{sep}\"\n",
        "save_file = f\"{result_path}edge.tif\"\n",
        "OmeTiffWriter.save(BW_proposed_pp, save_file, dim_order=\"TZYX\")"
      ],
      "metadata": {
        "pycharm": {
          "name": "#%%\n"
        },
        "id": "hI7HelddpfRk",
        "colab": {
          "base_uri": "https://localhost:8080/"
        },
        "outputId": "84f4ac2e-cb0a-4c05-9ef8-0515a40504c0"
      },
      "id": "hI7HelddpfRk"
    }
  ],
  "metadata": {
    "kernelspec": {
      "display_name": "Python 3 (ipykernel)",
      "language": "python",
      "name": "python3"
    },
    "language_info": {
      "codemirror_mode": {
        "name": "ipython",
        "version": 3
      },
      "file_extension": ".py",
      "mimetype": "text/x-python",
      "name": "python",
      "nbconvert_exporter": "python",
      "pygments_lexer": "ipython3",
      "version": "3.9.7"
    },
    "colab": {
      "provenance": []
    }
  },
  "nbformat": 4,
  "nbformat_minor": 5
}